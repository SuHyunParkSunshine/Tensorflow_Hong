{
 "cells": [
  {
   "cell_type": "code",
   "execution_count": 1,
   "metadata": {},
   "outputs": [],
   "source": [
    "import tensorflow as tf\n",
    "import tensorflow_datasets as tfds\n",
    "import os\n",
    "import numpy as np\n",
    "import matplotlib.pyplot as plt"
   ]
  },
  {
   "cell_type": "code",
   "execution_count": 7,
   "metadata": {},
   "outputs": [
    {
     "ename": "TypeError",
     "evalue": "'_IterableDataset' object is not subscriptable",
     "output_type": "error",
     "traceback": [
      "\u001b[1;31m---------------------------------------------------------------------------\u001b[0m",
      "\u001b[1;31mTypeError\u001b[0m                                 Traceback (most recent call last)",
      "Cell \u001b[1;32mIn[7], line 11\u001b[0m\n\u001b[0;32m      8\u001b[0m split_ratio \u001b[39m=\u001b[39m \u001b[39mint\u001b[39m(\u001b[39m0.8\u001b[39m \u001b[39m*\u001b[39m num_examples)\n\u001b[0;32m     10\u001b[0m \u001b[39m# 감성 분석을 위한 데이터와 라벨 생성\u001b[39;00m\n\u001b[1;32m---> 11\u001b[0m txt_train, txt_test \u001b[39m=\u001b[39m data[\u001b[39m'\u001b[39;49m\u001b[39mdata\u001b[39;49m\u001b[39m'\u001b[39;49m][:split_ratio][\u001b[39m'\u001b[39m\u001b[39mreview_body\u001b[39m\u001b[39m'\u001b[39m], data[\u001b[39m'\u001b[39m\u001b[39mdata\u001b[39m\u001b[39m'\u001b[39m][split_ratio:][\u001b[39m'\u001b[39m\u001b[39mreview_body\u001b[39m\u001b[39m'\u001b[39m]\n\u001b[0;32m     12\u001b[0m label_train \u001b[39m=\u001b[39m (data[\u001b[39m'\u001b[39m\u001b[39mdata\u001b[39m\u001b[39m'\u001b[39m][:split_ratio][\u001b[39m'\u001b[39m\u001b[39mstar_rating\u001b[39m\u001b[39m'\u001b[39m] \u001b[39m>\u001b[39m \u001b[39m3\u001b[39m)\u001b[39m.\u001b[39mastype(\u001b[39mint\u001b[39m)\n\u001b[0;32m     13\u001b[0m label_test \u001b[39m=\u001b[39m (data[\u001b[39m'\u001b[39m\u001b[39mdata\u001b[39m\u001b[39m'\u001b[39m][split_ratio:][\u001b[39m'\u001b[39m\u001b[39mstar_rating\u001b[39m\u001b[39m'\u001b[39m] \u001b[39m>\u001b[39m \u001b[39m3\u001b[39m)\u001b[39m.\u001b[39mastype(\u001b[39mint\u001b[39m)\n",
      "\u001b[1;31mTypeError\u001b[0m: '_IterableDataset' object is not subscriptable"
     ]
    }
   ],
   "source": [
    "# 데이터셋 로드\n",
    "dataset_name = 'amazon_us_reviews/Personal_Care_Appliances_v1_00'\n",
    "data, info = tfds.load(name=dataset_name, split=tfds.Split.TRAIN, with_info=True)\n",
    "\n",
    "# 데이터셋 분리\n",
    "data = tfds.as_numpy(data)\n",
    "num_examples = info.splits['train'].num_examples\n",
    "split_ratio = int(0.8 * num_examples)\n",
    "\n",
    "# 감성 분석을 위한 데이터와 라벨 생성\n",
    "txt_train, txt_test = data['data'][:split_ratio]['review_body'], data['data'][split_ratio:]['review_body']\n",
    "label_train = (data['data'][:split_ratio]['star_rating'] > 3).astype(int)\n",
    "label_test = (data['data'][split_ratio:]['star_rating'] > 3).astype(int)"
   ]
  },
  {
   "cell_type": "code",
   "execution_count": 3,
   "metadata": {},
   "outputs": [
    {
     "ename": "NameError",
     "evalue": "name 'txt_train' is not defined",
     "output_type": "error",
     "traceback": [
      "\u001b[1;31m---------------------------------------------------------------------------\u001b[0m",
      "\u001b[1;31mNameError\u001b[0m                                 Traceback (most recent call last)",
      "Cell \u001b[1;32mIn[3], line 1\u001b[0m\n\u001b[1;32m----> 1\u001b[0m \u001b[39mprint\u001b[39m(\u001b[39mlen\u001b[39m(txt_train))\n\u001b[0;32m      2\u001b[0m \u001b[39mprint\u001b[39m(\u001b[39mlen\u001b[39m(txt_test))\n",
      "\u001b[1;31mNameError\u001b[0m: name 'txt_train' is not defined"
     ]
    }
   ],
   "source": [
    "# 데이터 확인\n",
    "print(\"Training data size:\", len(txt_train))\n",
    "print(\"Test data size:\", len(txt_test))"
   ]
  }
 ],
 "metadata": {
  "kernelspec": {
   "display_name": "Python 3",
   "language": "python",
   "name": "python3"
  },
  "language_info": {
   "codemirror_mode": {
    "name": "ipython",
    "version": 3
   },
   "file_extension": ".py",
   "mimetype": "text/x-python",
   "name": "python",
   "nbconvert_exporter": "python",
   "pygments_lexer": "ipython3",
   "version": "3.11.4"
  },
  "orig_nbformat": 4
 },
 "nbformat": 4,
 "nbformat_minor": 2
}
